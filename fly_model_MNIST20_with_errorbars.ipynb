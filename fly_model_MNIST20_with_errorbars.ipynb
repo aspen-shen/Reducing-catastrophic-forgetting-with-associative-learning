{
 "cells": [
  {
   "cell_type": "code",
   "execution_count": 32,
   "metadata": {},
   "outputs": [],
   "source": [
    "import numpy as np\n",
    "import pandas as pd\n",
    "import seaborn as sns\n",
    "import matplotlib.pyplot as plt\n",
    "import sys\n",
    "import warnings\n",
    "import matplotlib.pyplot as plt\n",
    "import random\n",
    "import time\n",
    "from sklearn.preprocessing import minmax_scale\n",
    "warnings.filterwarnings('ignore')"
   ]
  },
  {
   "cell_type": "code",
   "execution_count": 2,
   "metadata": {},
   "outputs": [],
   "source": [
    "mnist_train = pd.read_csv('../mnist_kmnist_train.csv',header=None)\n",
    "mnist_train_label = pd.read_csv('../mnist_kmnist_train_label.csv',header=None)\n",
    "mnist_train_label = np.array([x[0] for x in np.array(mnist_train_label)])\n",
    "fmnist_train = pd.read_csv('../fmnist_kmnist_train.csv',header=None)\n",
    "fmnist_train_label = pd.read_csv('../fmnist_kmnist_train_label.csv',header=None)\n",
    "fmnist_train_label = np.array([x[0] for x in np.array(fmnist_train_label)])"
   ]
  },
  {
   "cell_type": "code",
   "execution_count": 3,
   "metadata": {},
   "outputs": [],
   "source": [
    "mnist_test = pd.read_csv('../mnist_kmnist_test.csv',header=None)\n",
    "mnist_test_label = pd.read_csv('../mnist_kmnist_test_label.csv',header=None)\n",
    "mnist_test_label = np.array([x[0] for x in np.array(mnist_test_label)])\n",
    "fmnist_test = pd.read_csv('../fmnist_kmnist_test.csv',header=None)\n",
    "fmnist_test_label = pd.read_csv('../fmnist_kmnist_test_label.csv',header=None)\n",
    "fmnist_test_label = np.array([x[0] for x in np.array(fmnist_test_label)])"
   ]
  },
  {
   "cell_type": "code",
   "execution_count": 4,
   "metadata": {},
   "outputs": [],
   "source": [
    "train_data = pd.concat([mnist_train, fmnist_train],axis=0,ignore_index=True)\n",
    "test_data = pd.concat([mnist_test, fmnist_test],axis=0,ignore_index=True)\n",
    "train_label = np.concatenate([mnist_train_label, fmnist_train_label+10])\n",
    "test_label = np.concatenate([mnist_test_label, fmnist_test_label+10])"
   ]
  },
  {
   "cell_type": "code",
   "execution_count": 5,
   "metadata": {},
   "outputs": [],
   "source": [
    "train_data = pd.DataFrame(minmax_scale(train_data,axis=1))\n",
    "test_data = pd.DataFrame(minmax_scale(test_data,axis=1))"
   ]
  },
  {
   "cell_type": "code",
   "execution_count": 13,
   "metadata": {},
   "outputs": [],
   "source": [
    "def generate_transformation_matrix(n_kc,n_orn,n_response,seed):\n",
    "    R = np.zeros((n_kc, n_orn))\n",
    "    for i in range(n_kc):\n",
    "        random.seed(i+seed)\n",
    "        np.random.seed(i+seed)\n",
    "        R[i,random.sample(list(range(n_orn)), n_response)] = 1\n",
    "    return R\n",
    "\n",
    "\n",
    "def get_KC(p,R,thresh):\n",
    "    '''\n",
    "    odor: a vector of ORN responses for a given odor\n",
    "    w: inhibitory synaptic strength from LN to PN\n",
    "    R: random linear transformation matrix from PN to KC\n",
    "    thresh: rectlinear threshold for KC activation\n",
    "    '''\n",
    "    KC = np.matmul(R,p)\n",
    "    KC[KC<=thresh] = 0\n",
    "    threshold = np.quantile(KC,0.95)\n",
    "    KC[KC<threshold] = 0\n",
    "    #KC[KC>0] = 1\n",
    "    KC = KC/np.max(KC)\n",
    "    return KC"
   ]
  },
  {
   "cell_type": "code",
   "execution_count": 6,
   "metadata": {},
   "outputs": [],
   "source": [
    "def split_data(data, labels, split):\n",
    "    from collections import Counter\n",
    "    distinct_labels = list(Counter(labels).keys())\n",
    "    n_labels = len(distinct_labels)\n",
    "    n_split = int(n_labels/split)\n",
    "    trans = data.T\n",
    "    trans.columns = labels\n",
    "    datasets = {}\n",
    "    datalabels = {}\n",
    "    for i in range(n_split):\n",
    "        cond1 = trans.columns.values >= i*split\n",
    "        cond2 = trans.columns.values < (i+1)*split\n",
    "        out = trans.iloc[:,cond1&cond2]\n",
    "        out_label = out.columns.values\n",
    "        datasets[i] = out.T\n",
    "        datalabels[i] = out_label\n",
    "    return (datasets, datalabels)"
   ]
  },
  {
   "cell_type": "code",
   "execution_count": 96,
   "metadata": {},
   "outputs": [],
   "source": [
    "def train(data, label, lr, n_class, shift):\n",
    "    from collections import Counter\n",
    "    weights = np.zeros([n_class,n_kc])#*10.0\n",
    "    kcs = get_KC(data,R,thresh)\n",
    "    distinct_label = np.sort(list(Counter(label).keys()))\n",
    "    if len(distinct_label) != n_class:\n",
    "        raise ValueError('Number of classes to be trained does not match!!!')\n",
    "    for i in range(n_class):\n",
    "        sum_kc = np.sum(kcs[np.array(label==distinct_label[i])],axis=0)\n",
    "        weights[distinct_label[i]-shift] += lr*sum_kc\n",
    "        #weights[weights<0] = 0\n",
    "        weights[weights>1] = 1\n",
    "    return weights"
   ]
  },
  {
   "cell_type": "code",
   "execution_count": 250,
   "metadata": {},
   "outputs": [],
   "source": [
    "def accu(weights, data, label):\n",
    "    #kcs = np.array([get_KC(np.array(data.iloc[i,:]),R,thresh) for i in range(data.shape[0])])\n",
    "    kcs = get_KC(data,R,thresh)\n",
    "    result = np.matmul(weights, kcs.T)\n",
    "    pred = np.argmax(result, axis=0)\n",
    "    return np.sum(pred==label)/len(label)"
   ]
  },
  {
   "cell_type": "code",
   "execution_count": 233,
   "metadata": {},
   "outputs": [],
   "source": [
    "def get_KC(p,R,thresh):\n",
    "    '''\n",
    "    odor: a vector of ORN responses for a given odor\n",
    "    w: inhibitory synaptic strength from LN to PN\n",
    "    R: random linear transformation matrix from PN to KC\n",
    "    thresh: rectlinear threshold for KC activation\n",
    "    '''\n",
    "    KC = np.matmul(R,p)\n",
    "    KC[KC<=thresh] = 0\n",
    "    threshold = np.quantile(KC,0.95)\n",
    "    KC[KC<threshold] = 0\n",
    "    KC = KC/np.max(KC)\n",
    "    #KC[KC>0] = 1\n",
    "    return KC"
   ]
  },
  {
   "cell_type": "code",
   "execution_count": 247,
   "metadata": {},
   "outputs": [],
   "source": [
    "def get_KC(p,R,thresh):\n",
    "    '''\n",
    "    odor: a vector of ORN responses for a given odor\n",
    "    w: inhibitory synaptic strength from LN to PN\n",
    "    R: random linear transformation matrix from PN to KC\n",
    "    thresh: rectlinear threshold for KC activation\n",
    "    '''\n",
    "    temp = np.dot(R,p.T)\n",
    "    KC = np.zeros(temp.shape)\n",
    "    top = np.argpartition(KC, -int(R.shape[0]*0.05), axis=0)[-int(R.shape[0]*0.05):,:]\n",
    "    KC[top,np.arange(KC.shape[1])[None,:]] = temp[top,np.arange(KC.shape[1])[None,:]]\n",
    "    #KC.T[KC.T<threshold] = 0\n",
    "    #KC[KC>0] = 1\n",
    "    KC = KC.T/np.max(KC.T,axis=0)\n",
    "    return KC"
   ]
  },
  {
   "cell_type": "code",
   "execution_count": 387,
   "metadata": {},
   "outputs": [],
   "source": [
    "def get_KC(p,R,thresh):\n",
    "    '''\n",
    "    odor: a vector of ORN responses for a given odor\n",
    "    w: inhibitory synaptic strength from LN to PN\n",
    "    R: random linear transformation matrix from PN to KC\n",
    "    thresh: rectlinear threshold for KC activation\n",
    "    '''\n",
    "    KC = np.dot(R,p.T)\n",
    "    KC2 = KC/(np.sum(KC,axis=0)+1e-4)\n",
    "    KC[KC2<=(1.7/R.shape[0])] = 0\n",
    "    KC = KC/(np.max(KC,axis=0)+1e-4)\n",
    "    return KC.T"
   ]
  },
  {
   "cell_type": "code",
   "execution_count": 118,
   "metadata": {},
   "outputs": [],
   "source": [
    "import psutil, os"
   ]
  },
  {
   "cell_type": "code",
   "execution_count": 123,
   "metadata": {},
   "outputs": [
    {
     "data": {
      "text/plain": [
       "38.68359375"
      ]
     },
     "execution_count": 123,
     "metadata": {},
     "output_type": "execute_result"
    }
   ],
   "source": [
    "start = psutil.Process(os.getpid()).memory_info().rss / 1024 ** 2\n",
    "trained_weights = train(train_datasets[0], train_labels[0], 0.01, 2, 0*2)\n",
    "end = psutil.Process(os.getpid()).memory_info().rss / 1024 ** 2\n",
    "end - start"
   ]
  },
  {
   "cell_type": "code",
   "execution_count": 158,
   "metadata": {},
   "outputs": [
    {
     "data": {
      "text/plain": [
       "0.1875"
      ]
     },
     "execution_count": 158,
     "metadata": {},
     "output_type": "execute_result"
    }
   ],
   "source": [
    "start = psutil.Process(os.getpid()).memory_info().rss / 1024 ** 2\n",
    "trained_weights = train(train_datasets[0], train_labels[0], 0.01, 2, 0*2)\n",
    "end = psutil.Process(os.getpid()).memory_info().rss / 1024 ** 2\n",
    "end - start"
   ]
  },
  {
   "cell_type": "code",
   "execution_count": 161,
   "metadata": {},
   "outputs": [
    {
     "data": {
      "text/plain": [
       "1.315436601638794"
      ]
     },
     "execution_count": 161,
     "metadata": {},
     "output_type": "execute_result"
    }
   ],
   "source": [
    "start = time.time()\n",
    "trained_weights = train(train_datasets[0], train_labels[0], 0.01, 2, 0*2)\n",
    "end = time.time()\n",
    "end - start"
   ]
  },
  {
   "cell_type": "code",
   "execution_count": 206,
   "metadata": {},
   "outputs": [
    {
     "data": {
      "text/plain": [
       "(3200, 84)"
      ]
     },
     "execution_count": 206,
     "metadata": {},
     "output_type": "execute_result"
    }
   ],
   "source": [
    "R.shape"
   ]
  },
  {
   "cell_type": "code",
   "execution_count": 253,
   "metadata": {},
   "outputs": [
    {
     "data": {
      "text/plain": [
       "1.8293240070343018"
      ]
     },
     "execution_count": 253,
     "metadata": {},
     "output_type": "execute_result"
    }
   ],
   "source": [
    "start = time.time()\n",
    "kcs = get_KC(train_datasets[0],R,thresh)\n",
    "end = time.time()\n",
    "end - start"
   ]
  },
  {
   "cell_type": "code",
   "execution_count": 215,
   "metadata": {},
   "outputs": [
    {
     "data": {
      "text/plain": [
       "0    0.420423\n",
       "1    0.629229\n",
       "1    0.120966\n",
       "1    0.000000\n",
       "1    0.000000\n",
       "       ...   \n",
       "0    0.617235\n",
       "1    0.541791\n",
       "1    0.649467\n",
       "0    0.286713\n",
       "1    0.468672\n",
       "Name: 0, Length: 12665, dtype: float64"
      ]
     },
     "execution_count": 215,
     "metadata": {},
     "output_type": "execute_result"
    }
   ],
   "source": [
    "train_datasets[0]"
   ]
  },
  {
   "cell_type": "code",
   "execution_count": 216,
   "metadata": {},
   "outputs": [
    {
     "data": {
      "text/plain": [
       "array([0., 0., 0., ..., 0., 0., 0.])"
      ]
     },
     "execution_count": 216,
     "metadata": {},
     "output_type": "execute_result"
    }
   ],
   "source": [
    "get_KC(np.array(train_datasets[0].iloc[0,:]),R,thresh)"
   ]
  },
  {
   "cell_type": "code",
   "execution_count": 234,
   "metadata": {},
   "outputs": [],
   "source": [
    "kcs = np.array([get_KC(np.array(train_datasets[0].iloc[i,:]),R,thresh) for i in range(train_datasets[0].shape[0])])"
   ]
  },
  {
   "cell_type": "code",
   "execution_count": 390,
   "metadata": {},
   "outputs": [],
   "source": [
    "temp = np.dot(R,train_datasets[0].values.T)\n",
    "KC = np.zeros(temp.shape)\n",
    "top = np.argpartition(KC, -int(R.shape[0]*0.05), axis=0)[-int(R.shape[0]*0.05):,:]\n",
    "#KC[top,np.arange(KC.shape[1])[None,:]] = temp[top,np.arange(KC.shape[1])[None,:]]"
   ]
  },
  {
   "cell_type": "code",
   "execution_count": 259,
   "metadata": {},
   "outputs": [],
   "source": [
    "KC[top,np.arange(KC.shape[1])[None,:]] = temp[top,np.arange(KC.shape[1])[None,:]]"
   ]
  },
  {
   "cell_type": "code",
   "execution_count": 262,
   "metadata": {},
   "outputs": [
    {
     "data": {
      "text/plain": [
       "(160, 12665)"
      ]
     },
     "execution_count": 262,
     "metadata": {},
     "output_type": "execute_result"
    }
   ],
   "source": [
    "KC."
   ]
  },
  {
   "cell_type": "code",
   "execution_count": 242,
   "metadata": {},
   "outputs": [
    {
     "data": {
      "image/png": "[encoded data removed]",
      "text/plain": [
       "<Figure size 432x288 with 1 Axes>"
      ]
     },
     "metadata": {
      "needs_background": "light"
     },
     "output_type": "display_data"
    }
   ],
   "source": [
    "y = np.sum(kcs==0,axis=1)\n",
    "sns.boxplot(y);"
   ]
  },
  {
   "cell_type": "code",
   "execution_count": 381,
   "metadata": {},
   "outputs": [],
   "source": [
    "KC = np.dot(R,train_datasets[0].values.T)\n",
    "KC2 = KC/(np.sum(KC,axis=0)+1e-4)\n",
    "KC[KC2<=(1.7/R.shape[0])] = 0\n",
    "KC = KC/(np.max(KC,axis=0)+1e-4)"
   ]
  },
  {
   "cell_type": "code",
   "execution_count": 382,
   "metadata": {},
   "outputs": [
    {
     "data": {
      "text/plain": [
       "0"
      ]
     },
     "execution_count": 382,
     "metadata": {},
     "output_type": "execute_result"
    }
   ],
   "source": [
    "x = np.max(KC,axis=0)\n",
    "np.sum(x==0)"
   ]
  },
  {
   "cell_type": "code",
   "execution_count": 383,
   "metadata": {},
   "outputs": [
    {
     "data": {
      "text/plain": [
       "(3200, 12665)"
      ]
     },
     "execution_count": 383,
     "metadata": {},
     "output_type": "execute_result"
    }
   ],
   "source": [
    "KC.shape"
   ]
  },
  {
   "cell_type": "code",
   "execution_count": 384,
   "metadata": {},
   "outputs": [
    {
     "data": {
      "text/plain": [
       "3185"
      ]
     },
     "execution_count": 384,
     "metadata": {},
     "output_type": "execute_result"
    }
   ],
   "source": [
    "np.max(np.sum(KC==0,axis=0))"
   ]
  },
  {
   "cell_type": "code",
   "execution_count": 385,
   "metadata": {},
   "outputs": [
    {
     "data": {
      "text/plain": [
       "2931"
      ]
     },
     "execution_count": 385,
     "metadata": {},
     "output_type": "execute_result"
    }
   ],
   "source": [
    "np.min(np.sum(KC==0,axis=0))"
   ]
  },
  {
   "cell_type": "code",
   "execution_count": 386,
   "metadata": {},
   "outputs": [
    {
     "data": {
      "image/png": "[encoded data removed]",
      "text/plain": [
       "<Figure size 432x288 with 1 Axes>"
      ]
     },
     "metadata": {
      "needs_background": "light"
     },
     "output_type": "display_data"
    }
   ],
   "source": [
    "y = np.sum(KC==0,axis=0)\n",
    "sns.boxplot(y);"
   ]
  },
  {
   "cell_type": "code",
   "execution_count": 99,
   "metadata": {},
   "outputs": [
    {
     "data": {
      "text/plain": [
       "(3200, 12665)"
      ]
     },
     "execution_count": 99,
     "metadata": {},
     "output_type": "execute_result"
    }
   ],
   "source": [
    "kcs.shape 2.323518991470337"
   ]
  },
  {
   "cell_type": "code",
   "execution_count": 9,
   "metadata": {},
   "outputs": [],
   "source": [
    "train_datasets, train_labels = split_data(train_data, train_label, 2)\n",
    "test_datasets, test_labels = split_data(test_data, test_label, 2)"
   ]
  },
  {
   "cell_type": "code",
   "execution_count": 25,
   "metadata": {},
   "outputs": [
    {
     "data": {
      "text/plain": [
       "(84, 12089)"
      ]
     },
     "execution_count": 25,
     "metadata": {},
     "output_type": "execute_result"
    }
   ],
   "source": [
    "train_datasets[1].T.shape"
   ]
  },
  {
   "cell_type": "code",
   "execution_count": 16,
   "metadata": {},
   "outputs": [],
   "source": [
    "R = generate_transformation_matrix(n_kc,n_orn,n_response,2023)"
   ]
  },
  {
   "cell_type": "code",
   "execution_count": 24,
   "metadata": {},
   "outputs": [
    {
     "data": {
      "text/plain": [
       "(3200, 84)"
      ]
     },
     "execution_count": 24,
     "metadata": {},
     "output_type": "execute_result"
    }
   ],
   "source": [
    "R.shape"
   ]
  },
  {
   "cell_type": "code",
   "execution_count": 126,
   "metadata": {},
   "outputs": [],
   "source": [
    "KC = np.dot(R,train_datasets[0].T)"
   ]
  },
  {
   "cell_type": "code",
   "execution_count": 145,
   "metadata": {},
   "outputs": [
    {
     "data": {
      "text/plain": [
       "0.24927091598510742"
      ]
     },
     "execution_count": 145,
     "metadata": {},
     "output_type": "execute_result"
    }
   ],
   "source": [
    "start = time.time()\n",
    "KC2 = KC/np.sum(KC,axis=0)\n",
    "end = time.time()\n",
    "end - start"
   ]
  },
  {
   "cell_type": "code",
   "execution_count": 152,
   "metadata": {},
   "outputs": [
    {
     "data": {
      "text/plain": [
       "0.36862993240356445"
      ]
     },
     "execution_count": 152,
     "metadata": {},
     "output_type": "execute_result"
    }
   ],
   "source": [
    "start = time.time()\n",
    "KC2 = KC/(np.sum(KC,axis=0)+1e-3)\n",
    "KC2[KC2<=1.6/3200] = 0\n",
    "end = time.time()\n",
    "end - start"
   ]
  },
  {
   "cell_type": "code",
   "execution_count": 246,
   "metadata": {},
   "outputs": [
    {
     "data": {
      "image/png": "[encoded data removed]",
      "text/plain": [
       "<Figure size 432x288 with 1 Axes>"
      ]
     },
     "metadata": {
      "needs_background": "light"
     },
     "output_type": "display_data"
    }
   ],
   "source": [
    "x = np.sum(KC2>1.8/3200,axis=0)/3200\n",
    "sns.boxenplot(x);"
   ]
  },
  {
   "cell_type": "code",
   "execution_count": 87,
   "metadata": {},
   "outputs": [
    {
     "data": {
      "text/plain": [
       "1.6914198398590088"
      ]
     },
     "execution_count": 87,
     "metadata": {},
     "output_type": "execute_result"
    }
   ],
   "source": [
    "start = time.time()\n",
    "q = np.quantile(KC,0.95,axis=1)\n",
    "end = time.time()\n",
    "end - start"
   ]
  },
  {
   "cell_type": "code",
   "execution_count": 88,
   "metadata": {},
   "outputs": [],
   "source": [
    "KC.T[KC.T<q] = 0"
   ]
  },
  {
   "cell_type": "code",
   "execution_count": 90,
   "metadata": {},
   "outputs": [
    {
     "data": {
      "text/plain": [
       "array([[0., 0., 0., ..., 0., 0., 0.],\n",
       "       [0., 0., 0., ..., 0., 0., 0.],\n",
       "       [0., 0., 0., ..., 0., 0., 0.],\n",
       "       ...,\n",
       "       [0., 0., 0., ..., 0., 0., 0.],\n",
       "       [0., 0., 0., ..., 0., 0., 0.],\n",
       "       [0., 0., 0., ..., 0., 0., 0.]])"
      ]
     },
     "execution_count": 90,
     "metadata": {},
     "output_type": "execute_result"
    }
   ],
   "source": [
    "KC.T/np.max(KC.T,axis=0)"
   ]
  },
  {
   "cell_type": "code",
   "execution_count": 82,
   "metadata": {},
   "outputs": [
    {
     "data": {
      "text/plain": [
       "(3200, 12665)"
      ]
     },
     "execution_count": 82,
     "metadata": {},
     "output_type": "execute_result"
    }
   ],
   "source": [
    "KC.shape"
   ]
  },
  {
   "cell_type": "code",
   "execution_count": 40,
   "metadata": {},
   "outputs": [
    {
     "data": {
      "text/plain": [
       "3040"
      ]
     },
     "execution_count": 40,
     "metadata": {},
     "output_type": "execute_result"
    }
   ],
   "source": [
    "int(n_kc*0.95)"
   ]
  },
  {
   "cell_type": "code",
   "execution_count": 109,
   "metadata": {},
   "outputs": [
    {
     "data": {
      "text/plain": [
       "1.4637980461120605"
      ]
     },
     "execution_count": 109,
     "metadata": {},
     "output_type": "execute_result"
    }
   ],
   "source": [
    "start = time.time()\n",
    "top = np.argpartition(KC, -160, axis=0)[-160:,:]\n",
    "end = time.time()\n",
    "end - start"
   ]
  },
  {
   "cell_type": "code",
   "execution_count": 110,
   "metadata": {},
   "outputs": [
    {
     "data": {
      "text/plain": [
       "(160, 12665)"
      ]
     },
     "execution_count": 110,
     "metadata": {},
     "output_type": "execute_result"
    }
   ],
   "source": [
    "top.shape"
   ]
  },
  {
   "cell_type": "code",
   "execution_count": 111,
   "metadata": {},
   "outputs": [],
   "source": [
    "KC[top,np.arange(KC.shape[1])[None,:]] = 0"
   ]
  },
  {
   "cell_type": "code",
   "execution_count": 112,
   "metadata": {},
   "outputs": [
    {
     "data": {
      "text/plain": [
       "array([160, 161, 160, ..., 160, 160, 162])"
      ]
     },
     "execution_count": 112,
     "metadata": {},
     "output_type": "execute_result"
    }
   ],
   "source": [
    "np.sum(KC==0,axis=0)"
   ]
  },
  {
   "cell_type": "code",
   "execution_count": 106,
   "metadata": {},
   "outputs": [
    {
     "data": {
      "text/plain": [
       "(3200, 12665)"
      ]
     },
     "execution_count": 106,
     "metadata": {},
     "output_type": "execute_result"
    }
   ],
   "source": [
    "KC.shape"
   ]
  },
  {
   "cell_type": "code",
   "execution_count": 15,
   "metadata": {},
   "outputs": [],
   "source": [
    "n_kc = 3200\n",
    "n_orn = 84\n",
    "n_response = 10\n",
    "n_task = 10\n",
    "thresh = 0\n",
    "seeds = [1,12,21,35,78]"
   ]
  },
  {
   "cell_type": "code",
   "execution_count": 388,
   "metadata": {},
   "outputs": [
    {
     "name": "stdout",
     "output_type": "stream",
     "text": [
      "loop 1 done!\n",
      "loop 2 done!\n",
      "loop 3 done!\n",
      "loop 4 done!\n",
      "loop 5 done!\n",
      "loop 6 done!\n",
      "loop 7 done!\n",
      "loop 8 done!\n",
      "loop 9 done!\n",
      "loop 10 done!\n",
      "18.400928020477295\n"
     ]
    }
   ],
   "source": [
    "for seed in [1]:\n",
    "    start = time.time()\n",
    "    R = generate_transformation_matrix(n_kc,n_orn,n_response,seed)\n",
    "    accuracy = np.zeros([n_task, n_task])\n",
    "    trained_weights = {}\n",
    "    for i in range(n_task):\n",
    "        trained_weights[i] = train(train_datasets[i], train_labels[i], 0.01, 2, i*2)\n",
    "\n",
    "        weights_to_test = np.concatenate([trained_weights[j] for j in range(i+1)])\n",
    "\n",
    "        for j in range(i+1):\n",
    "            accuracy[i,j] = accu(weights_to_test,test_datasets[j],test_labels[j])\n",
    "\n",
    "        print('loop '+str(i+1)+' done!')\n",
    "    accuracy = pd.DataFrame(accuracy)\n",
    "    end = time.time()\n",
    "    print(end-start)\n",
    "    #accuracy.to_csv('./accuracy/FlyModel_all_result_lr0.01_randseed_'+str(seed)+'.csv',index=False,header=False)"
   ]
  },
  {
   "cell_type": "code",
   "execution_count": 371,
   "metadata": {},
   "outputs": [
    {
     "data": {
      "text/html": [
       "<div>\n",
       "<style scoped>\n",
       "    .dataframe tbody tr th:only-of-type {\n",
       "        vertical-align: middle;\n",
       "    }\n",
       "\n",
       "    .dataframe tbody tr th {\n",
       "        vertical-align: top;\n",
       "    }\n",
       "\n",
       "    .dataframe thead th {\n",
       "        text-align: right;\n",
       "    }\n",
       "</style>\n",
       "<table border=\"1\" class=\"dataframe\">\n",
       "  <thead>\n",
       "    <tr style=\"text-align: right;\">\n",
       "      <th></th>\n",
       "      <th>0</th>\n",
       "      <th>1</th>\n",
       "      <th>2</th>\n",
       "      <th>3</th>\n",
       "      <th>4</th>\n",
       "      <th>5</th>\n",
       "      <th>6</th>\n",
       "      <th>7</th>\n",
       "      <th>8</th>\n",
       "      <th>9</th>\n",
       "    </tr>\n",
       "  </thead>\n",
       "  <tbody>\n",
       "    <tr>\n",
       "      <td>0</td>\n",
       "      <td>0.996690</td>\n",
       "      <td>0.000000</td>\n",
       "      <td>0.000000</td>\n",
       "      <td>0.000000</td>\n",
       "      <td>0.000000</td>\n",
       "      <td>0.0000</td>\n",
       "      <td>0.0000</td>\n",
       "      <td>0.0000</td>\n",
       "      <td>0.0000</td>\n",
       "      <td>0.000</td>\n",
       "    </tr>\n",
       "    <tr>\n",
       "      <td>1</td>\n",
       "      <td>0.973050</td>\n",
       "      <td>0.888345</td>\n",
       "      <td>0.000000</td>\n",
       "      <td>0.000000</td>\n",
       "      <td>0.000000</td>\n",
       "      <td>0.0000</td>\n",
       "      <td>0.0000</td>\n",
       "      <td>0.0000</td>\n",
       "      <td>0.0000</td>\n",
       "      <td>0.000</td>\n",
       "    </tr>\n",
       "    <tr>\n",
       "      <td>2</td>\n",
       "      <td>0.954137</td>\n",
       "      <td>0.796278</td>\n",
       "      <td>0.932764</td>\n",
       "      <td>0.000000</td>\n",
       "      <td>0.000000</td>\n",
       "      <td>0.0000</td>\n",
       "      <td>0.0000</td>\n",
       "      <td>0.0000</td>\n",
       "      <td>0.0000</td>\n",
       "      <td>0.000</td>\n",
       "    </tr>\n",
       "    <tr>\n",
       "      <td>3</td>\n",
       "      <td>0.924350</td>\n",
       "      <td>0.783546</td>\n",
       "      <td>0.913554</td>\n",
       "      <td>0.804632</td>\n",
       "      <td>0.000000</td>\n",
       "      <td>0.0000</td>\n",
       "      <td>0.0000</td>\n",
       "      <td>0.0000</td>\n",
       "      <td>0.0000</td>\n",
       "      <td>0.000</td>\n",
       "    </tr>\n",
       "    <tr>\n",
       "      <td>4</td>\n",
       "      <td>0.921513</td>\n",
       "      <td>0.739961</td>\n",
       "      <td>0.878869</td>\n",
       "      <td>0.795065</td>\n",
       "      <td>0.786183</td>\n",
       "      <td>0.0000</td>\n",
       "      <td>0.0000</td>\n",
       "      <td>0.0000</td>\n",
       "      <td>0.0000</td>\n",
       "      <td>0.000</td>\n",
       "    </tr>\n",
       "    <tr>\n",
       "      <td>5</td>\n",
       "      <td>0.919622</td>\n",
       "      <td>0.739471</td>\n",
       "      <td>0.878335</td>\n",
       "      <td>0.793051</td>\n",
       "      <td>0.785174</td>\n",
       "      <td>0.9185</td>\n",
       "      <td>0.0000</td>\n",
       "      <td>0.0000</td>\n",
       "      <td>0.0000</td>\n",
       "      <td>0.000</td>\n",
       "    </tr>\n",
       "    <tr>\n",
       "      <td>6</td>\n",
       "      <td>0.917258</td>\n",
       "      <td>0.737512</td>\n",
       "      <td>0.878335</td>\n",
       "      <td>0.792044</td>\n",
       "      <td>0.785174</td>\n",
       "      <td>0.8305</td>\n",
       "      <td>0.7735</td>\n",
       "      <td>0.0000</td>\n",
       "      <td>0.0000</td>\n",
       "      <td>0.000</td>\n",
       "    </tr>\n",
       "    <tr>\n",
       "      <td>7</td>\n",
       "      <td>0.916312</td>\n",
       "      <td>0.735553</td>\n",
       "      <td>0.875133</td>\n",
       "      <td>0.792044</td>\n",
       "      <td>0.784165</td>\n",
       "      <td>0.8250</td>\n",
       "      <td>0.7025</td>\n",
       "      <td>0.5515</td>\n",
       "      <td>0.0000</td>\n",
       "      <td>0.000</td>\n",
       "    </tr>\n",
       "    <tr>\n",
       "      <td>8</td>\n",
       "      <td>0.916312</td>\n",
       "      <td>0.735553</td>\n",
       "      <td>0.874600</td>\n",
       "      <td>0.792044</td>\n",
       "      <td>0.784165</td>\n",
       "      <td>0.7995</td>\n",
       "      <td>0.6435</td>\n",
       "      <td>0.5210</td>\n",
       "      <td>0.3225</td>\n",
       "      <td>0.000</td>\n",
       "    </tr>\n",
       "    <tr>\n",
       "      <td>9</td>\n",
       "      <td>0.913002</td>\n",
       "      <td>0.732125</td>\n",
       "      <td>0.874600</td>\n",
       "      <td>0.790030</td>\n",
       "      <td>0.784165</td>\n",
       "      <td>0.7985</td>\n",
       "      <td>0.6400</td>\n",
       "      <td>0.5175</td>\n",
       "      <td>0.3015</td>\n",
       "      <td>0.707</td>\n",
       "    </tr>\n",
       "  </tbody>\n",
       "</table>\n",
       "</div>"
      ],
      "text/plain": [
       "          0         1         2         3         4       5       6       7  \\\n",
       "0  0.996690  0.000000  0.000000  0.000000  0.000000  0.0000  0.0000  0.0000   \n",
       "1  0.973050  0.888345  0.000000  0.000000  0.000000  0.0000  0.0000  0.0000   \n",
       "2  0.954137  0.796278  0.932764  0.000000  0.000000  0.0000  0.0000  0.0000   \n",
       "3  0.924350  0.783546  0.913554  0.804632  0.000000  0.0000  0.0000  0.0000   \n",
       "4  0.921513  0.739961  0.878869  0.795065  0.786183  0.0000  0.0000  0.0000   \n",
       "5  0.919622  0.739471  0.878335  0.793051  0.785174  0.9185  0.0000  0.0000   \n",
       "6  0.917258  0.737512  0.878335  0.792044  0.785174  0.8305  0.7735  0.0000   \n",
       "7  0.916312  0.735553  0.875133  0.792044  0.784165  0.8250  0.7025  0.5515   \n",
       "8  0.916312  0.735553  0.874600  0.792044  0.784165  0.7995  0.6435  0.5210   \n",
       "9  0.913002  0.732125  0.874600  0.790030  0.784165  0.7985  0.6400  0.5175   \n",
       "\n",
       "        8      9  \n",
       "0  0.0000  0.000  \n",
       "1  0.0000  0.000  \n",
       "2  0.0000  0.000  \n",
       "3  0.0000  0.000  \n",
       "4  0.0000  0.000  \n",
       "5  0.0000  0.000  \n",
       "6  0.0000  0.000  \n",
       "7  0.0000  0.000  \n",
       "8  0.3225  0.000  \n",
       "9  0.3015  0.707  "
      ]
     },
     "execution_count": 371,
     "metadata": {},
     "output_type": "execute_result"
    }
   ],
   "source": [
    "accuracy"
   ]
  },
  {
   "cell_type": "code",
   "execution_count": 389,
   "metadata": {},
   "outputs": [
    {
     "data": {
      "text/html": [
       "<div>\n",
       "<style scoped>\n",
       "    .dataframe tbody tr th:only-of-type {\n",
       "        vertical-align: middle;\n",
       "    }\n",
       "\n",
       "    .dataframe tbody tr th {\n",
       "        vertical-align: top;\n",
       "    }\n",
       "\n",
       "    .dataframe thead th {\n",
       "        text-align: right;\n",
       "    }\n",
       "</style>\n",
       "<table border=\"1\" class=\"dataframe\">\n",
       "  <thead>\n",
       "    <tr style=\"text-align: right;\">\n",
       "      <th></th>\n",
       "      <th>0</th>\n",
       "      <th>1</th>\n",
       "      <th>2</th>\n",
       "      <th>3</th>\n",
       "      <th>4</th>\n",
       "      <th>5</th>\n",
       "      <th>6</th>\n",
       "      <th>7</th>\n",
       "      <th>8</th>\n",
       "      <th>9</th>\n",
       "    </tr>\n",
       "  </thead>\n",
       "  <tbody>\n",
       "    <tr>\n",
       "      <td>0</td>\n",
       "      <td>0.997636</td>\n",
       "      <td>0.000000</td>\n",
       "      <td>0.000000</td>\n",
       "      <td>0.000000</td>\n",
       "      <td>0.000000</td>\n",
       "      <td>0.000</td>\n",
       "      <td>0.0000</td>\n",
       "      <td>0.0000</td>\n",
       "      <td>0.0000</td>\n",
       "      <td>0.000</td>\n",
       "    </tr>\n",
       "    <tr>\n",
       "      <td>1</td>\n",
       "      <td>0.965012</td>\n",
       "      <td>0.920666</td>\n",
       "      <td>0.000000</td>\n",
       "      <td>0.000000</td>\n",
       "      <td>0.000000</td>\n",
       "      <td>0.000</td>\n",
       "      <td>0.0000</td>\n",
       "      <td>0.0000</td>\n",
       "      <td>0.0000</td>\n",
       "      <td>0.000</td>\n",
       "    </tr>\n",
       "    <tr>\n",
       "      <td>2</td>\n",
       "      <td>0.946572</td>\n",
       "      <td>0.842801</td>\n",
       "      <td>0.938100</td>\n",
       "      <td>0.000000</td>\n",
       "      <td>0.000000</td>\n",
       "      <td>0.000</td>\n",
       "      <td>0.0000</td>\n",
       "      <td>0.0000</td>\n",
       "      <td>0.0000</td>\n",
       "      <td>0.000</td>\n",
       "    </tr>\n",
       "    <tr>\n",
       "      <td>3</td>\n",
       "      <td>0.921513</td>\n",
       "      <td>0.830558</td>\n",
       "      <td>0.923159</td>\n",
       "      <td>0.849950</td>\n",
       "      <td>0.000000</td>\n",
       "      <td>0.000</td>\n",
       "      <td>0.0000</td>\n",
       "      <td>0.0000</td>\n",
       "      <td>0.0000</td>\n",
       "      <td>0.000</td>\n",
       "    </tr>\n",
       "    <tr>\n",
       "      <td>4</td>\n",
       "      <td>0.914421</td>\n",
       "      <td>0.790402</td>\n",
       "      <td>0.890608</td>\n",
       "      <td>0.835347</td>\n",
       "      <td>0.830055</td>\n",
       "      <td>0.000</td>\n",
       "      <td>0.0000</td>\n",
       "      <td>0.0000</td>\n",
       "      <td>0.0000</td>\n",
       "      <td>0.000</td>\n",
       "    </tr>\n",
       "    <tr>\n",
       "      <td>5</td>\n",
       "      <td>0.914421</td>\n",
       "      <td>0.790402</td>\n",
       "      <td>0.890608</td>\n",
       "      <td>0.834844</td>\n",
       "      <td>0.830055</td>\n",
       "      <td>0.912</td>\n",
       "      <td>0.0000</td>\n",
       "      <td>0.0000</td>\n",
       "      <td>0.0000</td>\n",
       "      <td>0.000</td>\n",
       "    </tr>\n",
       "    <tr>\n",
       "      <td>6</td>\n",
       "      <td>0.910165</td>\n",
       "      <td>0.790402</td>\n",
       "      <td>0.890608</td>\n",
       "      <td>0.834844</td>\n",
       "      <td>0.830055</td>\n",
       "      <td>0.798</td>\n",
       "      <td>0.7930</td>\n",
       "      <td>0.0000</td>\n",
       "      <td>0.0000</td>\n",
       "      <td>0.000</td>\n",
       "    </tr>\n",
       "    <tr>\n",
       "      <td>7</td>\n",
       "      <td>0.909693</td>\n",
       "      <td>0.789422</td>\n",
       "      <td>0.889541</td>\n",
       "      <td>0.834844</td>\n",
       "      <td>0.829551</td>\n",
       "      <td>0.797</td>\n",
       "      <td>0.7455</td>\n",
       "      <td>0.5725</td>\n",
       "      <td>0.0000</td>\n",
       "      <td>0.000</td>\n",
       "    </tr>\n",
       "    <tr>\n",
       "      <td>8</td>\n",
       "      <td>0.909693</td>\n",
       "      <td>0.789422</td>\n",
       "      <td>0.889541</td>\n",
       "      <td>0.834844</td>\n",
       "      <td>0.829047</td>\n",
       "      <td>0.775</td>\n",
       "      <td>0.6645</td>\n",
       "      <td>0.5460</td>\n",
       "      <td>0.4035</td>\n",
       "      <td>0.000</td>\n",
       "    </tr>\n",
       "    <tr>\n",
       "      <td>9</td>\n",
       "      <td>0.908747</td>\n",
       "      <td>0.788932</td>\n",
       "      <td>0.889541</td>\n",
       "      <td>0.834340</td>\n",
       "      <td>0.829047</td>\n",
       "      <td>0.772</td>\n",
       "      <td>0.6560</td>\n",
       "      <td>0.5455</td>\n",
       "      <td>0.3580</td>\n",
       "      <td>0.809</td>\n",
       "    </tr>\n",
       "  </tbody>\n",
       "</table>\n",
       "</div>"
      ],
      "text/plain": [
       "          0         1         2         3         4      5       6       7  \\\n",
       "0  0.997636  0.000000  0.000000  0.000000  0.000000  0.000  0.0000  0.0000   \n",
       "1  0.965012  0.920666  0.000000  0.000000  0.000000  0.000  0.0000  0.0000   \n",
       "2  0.946572  0.842801  0.938100  0.000000  0.000000  0.000  0.0000  0.0000   \n",
       "3  0.921513  0.830558  0.923159  0.849950  0.000000  0.000  0.0000  0.0000   \n",
       "4  0.914421  0.790402  0.890608  0.835347  0.830055  0.000  0.0000  0.0000   \n",
       "5  0.914421  0.790402  0.890608  0.834844  0.830055  0.912  0.0000  0.0000   \n",
       "6  0.910165  0.790402  0.890608  0.834844  0.830055  0.798  0.7930  0.0000   \n",
       "7  0.909693  0.789422  0.889541  0.834844  0.829551  0.797  0.7455  0.5725   \n",
       "8  0.909693  0.789422  0.889541  0.834844  0.829047  0.775  0.6645  0.5460   \n",
       "9  0.908747  0.788932  0.889541  0.834340  0.829047  0.772  0.6560  0.5455   \n",
       "\n",
       "        8      9  \n",
       "0  0.0000  0.000  \n",
       "1  0.0000  0.000  \n",
       "2  0.0000  0.000  \n",
       "3  0.0000  0.000  \n",
       "4  0.0000  0.000  \n",
       "5  0.0000  0.000  \n",
       "6  0.0000  0.000  \n",
       "7  0.0000  0.000  \n",
       "8  0.4035  0.000  \n",
       "9  0.3580  0.809  "
      ]
     },
     "execution_count": 389,
     "metadata": {},
     "output_type": "execute_result"
    }
   ],
   "source": [
    "accuracy"
   ]
  },
  {
   "cell_type": "code",
   "execution_count": null,
   "metadata": {},
   "outputs": [],
   "source": []
  }
 ],
 "metadata": {
  "kernelspec": {
   "display_name": "Python 3 (ipykernel)",
   "language": "python",
   "name": "python3"
  },
  "language_info": {
   "codemirror_mode": {
    "name": "ipython",
    "version": 3
   },
   "file_extension": ".py",
   "mimetype": "text/x-python",
   "name": "python",
   "nbconvert_exporter": "python",
   "pygments_lexer": "ipython3",
   "version": "3.9.12"
  }
 },
 "nbformat": 4,
 "nbformat_minor": 2
}
