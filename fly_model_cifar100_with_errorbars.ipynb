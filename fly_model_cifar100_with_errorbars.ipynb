{
 "cells": [
  {
   "cell_type": "code",
   "execution_count": 5,
   "metadata": {},
   "outputs": [],
   "source": [
    "import numpy as np\n",
    "import pandas as pd\n",
    "import seaborn as sns\n",
    "from sklearn.preprocessing import minmax_scale\n",
    "import matplotlib.pyplot as plt\n",
    "import sys\n",
    "import warnings\n",
    "import matplotlib.pyplot as plt\n",
    "import random\n",
    "warnings.filterwarnings('ignore')"
   ]
  },
  {
   "cell_type": "code",
   "execution_count": 6,
   "metadata": {},
   "outputs": [],
   "source": [
    "def split_data(data, labels, split):\n",
    "    from collections import Counter\n",
    "    distinct_labels = list(Counter(labels).keys())\n",
    "    n_labels = len(distinct_labels)\n",
    "    n_split = int(n_labels/split)\n",
    "    trans = data.T\n",
    "    trans.columns = labels\n",
    "    datasets = {}\n",
    "    datalabels = {}\n",
    "    for i in range(n_split):\n",
    "        cond1 = trans.columns.values >= i*split\n",
    "        cond2 = trans.columns.values < (i+1)*split\n",
    "        out = trans.iloc[:,cond1&cond2]\n",
    "        out_label = out.columns.values\n",
    "        datasets[i] = out.T\n",
    "        datalabels[i] = out_label\n",
    "    return (datasets, datalabels)"
   ]
  },
  {
   "cell_type": "code",
   "execution_count": 7,
   "metadata": {},
   "outputs": [],
   "source": [
    "def generate_transformation_matrix(n_kc,n_orn,n_response,seed):\n",
    "    R = np.zeros((n_kc, n_orn))\n",
    "    for i in range(n_kc):\n",
    "        random.seed(seed+i)\n",
    "        np.random.seed(seed+i)\n",
    "        R[i,random.sample(list(range(n_orn)), n_response)] = 1\n",
    "    return R\n",
    "\n",
    "def get_KC(p,R,thresh):\n",
    "    '''\n",
    "    odor: a vector of ORN responses for a given odor\n",
    "    w: inhibitory synaptic strength from LN to PN\n",
    "    R: random linear transformation matrix from PN to KC\n",
    "    thresh: rectlinear threshold for KC activation\n",
    "    '''\n",
    "    KC = np.matmul(R,p)\n",
    "    KC[KC<=thresh] = 0\n",
    "    threshold = np.quantile(KC,0.99)\n",
    "    KC[KC<threshold] = 0\n",
    "    KC = KC/np.max(KC)\n",
    "    #KC[KC>0] = 1\n",
    "    return KC"
   ]
  },
  {
   "cell_type": "code",
   "execution_count": 9,
   "metadata": {},
   "outputs": [],
   "source": [
    "def train(data, label, lr, n_class, shift):\n",
    "    from collections import Counter\n",
    "    weights = np.zeros([n_class,n_kc])#*10.0\n",
    "    kcs = get_KC(data,R,thresh)\n",
    "    #kcs = np.array([get_KC(np.array(data.iloc[i,:]),R,thresh) for i in range(data.shape[0])])\n",
    "    distinct_label = np.sort(list(Counter(label).keys()))\n",
    "    if len(distinct_label) != n_class:\n",
    "        raise ValueError('Number of classes to be trained does not match!!!')\n",
    "    for i in range(n_class):\n",
    "        sum_kc = np.sum(kcs[np.array(label==distinct_label[i])],axis=0)\n",
    "        weights[distinct_label[i]-shift] += lr*sum_kc\n",
    "        #weights[weights<0] = 0\n",
    "        weights[weights>1] = 1\n",
    "    return weights"
   ]
  },
  {
   "cell_type": "code",
   "execution_count": 10,
   "metadata": {},
   "outputs": [],
   "source": [
    "def accu(weights, data, label):\n",
    "    #kcs = [get_KC(np.array(data.iloc[i,:]),R,thresh) for i in range(data.shape[0])]\n",
    "    kcs = np.array(kcs)\n",
    "    result = np.matmul(weights, kcs.T)\n",
    "    pred = np.argmax(result, axis=0)\n",
    "    return np.sum(pred==label)/len(label)"
   ]
  },
  {
   "cell_type": "code",
   "execution_count": 13,
   "metadata": {},
   "outputs": [],
   "source": [
    "train_data = pd.read_csv('../../Research/Lifelong_learning/notebooks/processed_data/cifar100_train_resnet18.csv',header=None)\n",
    "train_label = pd.read_csv('../../Research/Lifelong_learning/notebooks/processed_data/cifar100_train_label_resnet18.csv',header=None)\n",
    "train_label = [train_label.values[i][0] for i in range(train_label.shape[0])]\n",
    "test = pd.read_csv('../../Research/Lifelong_learning/notebooks/processed_data/cifar100_test_resnet18.csv',header=None)\n",
    "test_label = pd.read_csv('../../Research/Lifelong_learning/notebooks/processed_data/cifar100_test_label_resnet18.csv',header=None)\n",
    "test_label = [test_label.values[i][0] for i in range(test_label.shape[0])]"
   ]
  },
  {
   "cell_type": "code",
   "execution_count": 14,
   "metadata": {},
   "outputs": [],
   "source": [
    "train_data = pd.DataFrame(minmax_scale(train_data,axis=1))\n",
    "test = pd.DataFrame(minmax_scale(test,axis=1))"
   ]
  },
  {
   "cell_type": "code",
   "execution_count": 15,
   "metadata": {},
   "outputs": [],
   "source": [
    "train_datasets, train_labels = split_data(train_data, train_label, 4)\n",
    "test_datasets, test_labels = split_data(test, test_label, 4)"
   ]
  },
  {
   "cell_type": "code",
   "execution_count": 16,
   "metadata": {},
   "outputs": [],
   "source": [
    "n_kc = 20000\n",
    "n_orn = 512\n",
    "n_response = 64\n",
    "seeds = [1,12,21,35,78]\n",
    "thresh = 0\n",
    "n_task = 25\n",
    "lr = 0.2"
   ]
  },
  {
   "cell_type": "code",
   "execution_count": 30,
   "metadata": {},
   "outputs": [],
   "source": [
    "R = generate_transformation_matrix(n_kc,n_orn,n_response,0)"
   ]
  },
  {
   "cell_type": "code",
   "execution_count": 34,
   "metadata": {},
   "outputs": [],
   "source": [
    "def get_KC(p,R,thresh):\n",
    "    '''\n",
    "    odor: a vector of ORN responses for a given odor\n",
    "    w: inhibitory synaptic strength from LN to PN\n",
    "    R: random linear transformation matrix from PN to KC\n",
    "    thresh: rectlinear threshold for KC activation\n",
    "    '''\n",
    "    KC = np.dot(R,p.T)\n",
    "    KC2 = KC/(np.sum(KC,axis=0)+1e-4)\n",
    "    KC[KC2<=(1.0/R.shape[0])] = 0\n",
    "    KC = KC/(np.max(KC,axis=0)+1e-4)\n",
    "    return KC.T"
   ]
  },
  {
   "cell_type": "code",
   "execution_count": 35,
   "metadata": {},
   "outputs": [],
   "source": [
    "kcs = get_KC(train_datasets[0],R,thresh)"
   ]
  },
  {
   "cell_type": "code",
   "execution_count": 36,
   "metadata": {},
   "outputs": [
    {
     "data": {
      "text/plain": [
       "(2000, 20000)"
      ]
     },
     "execution_count": 36,
     "metadata": {},
     "output_type": "execute_result"
    }
   ],
   "source": [
    "kcs.shape"
   ]
  },
  {
   "cell_type": "code",
   "execution_count": 38,
   "metadata": {},
   "outputs": [
    {
     "data": {
      "text/plain": [
       "2000"
      ]
     },
     "execution_count": 38,
     "metadata": {},
     "output_type": "execute_result"
    }
   ],
   "source": [
    "len(np.sum(kcs==0,axis=1))"
   ]
  },
  {
   "cell_type": "code",
   "execution_count": 39,
   "metadata": {},
   "outputs": [],
   "source": [
    "KC = np.dot(R,train_datasets[0].T)\n",
    "KC2 = KC/(np.sum(KC,axis=0)+1e-4)"
   ]
  },
  {
   "cell_type": "code",
   "execution_count": 49,
   "metadata": {},
   "outputs": [
    {
     "data": {
      "image/png": "[encoded data removed]",
      "text/plain": [
       "<Figure size 432x288 with 1 Axes>"
      ]
     },
     "metadata": {
      "needs_background": "light"
     },
     "output_type": "display_data"
    }
   ],
   "source": [
    "x = np.sum(KC2>1.2/20000,axis=0)/20000\n",
    "sns.boxenplot(x);"
   ]
  },
  {
   "cell_type": "code",
   "execution_count": null,
   "metadata": {},
   "outputs": [],
   "source": [
    "for seed in seeds:\n",
    "    R = generate_transformation_matrix(n_kc,n_orn,n_response,seed)\n",
    "    accuracy = np.zeros([n_task, n_task])\n",
    "    trained_weights = {}\n",
    "    for i in range(n_task):\n",
    "        trained_weights[i] = train(train_datasets[i], train_labels[i], lr, 4, i*4)\n",
    "\n",
    "        weights_to_test = np.concatenate([trained_weights[j] for j in range(i+1)])\n",
    "\n",
    "        for j in range(i+1):\n",
    "            accuracy[i,j] = accu(weights_to_test,test_datasets[j],test_labels[j])\n",
    "\n",
    "        print('loop '+str(i+1)+' done!')\n",
    "        \n",
    "    accuracy = pd.DataFrame(accuracy)\n",
    "    accuracy.to_csv('./accuracy/FlyModel_cifar100_resnet18_all_result_lr'+str(lr)+'_randseed_'+str(seed)+'.csv',index=False,header=False)"
   ]
  },
  {
   "cell_type": "code",
   "execution_count": null,
   "metadata": {},
   "outputs": [],
   "source": []
  }
 ],
 "metadata": {
  "kernelspec": {
   "display_name": "Python 3",
   "language": "python",
   "name": "python3"
  },
  "language_info": {
   "codemirror_mode": {
    "name": "ipython",
    "version": 3
   },
   "file_extension": ".py",
   "mimetype": "text/x-python",
   "name": "python",
   "nbconvert_exporter": "python",
   "pygments_lexer": "ipython3",
   "version": "3.7.4"
  }
 },
 "nbformat": 4,
 "nbformat_minor": 2
}
